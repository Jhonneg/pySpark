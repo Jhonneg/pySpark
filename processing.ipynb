{
 "cells": [
  {
   "cell_type": "code",
   "execution_count": null,
   "id": "0d49ea04",
   "metadata": {},
   "outputs": [
    {
     "name": "stderr",
     "output_type": "stream",
     "text": [
      "WARNING: Using incubator modules: jdk.incubator.vector\n",
      "Using Spark's default log4j profile: org/apache/spark/log4j2-defaults.properties\n",
      "Setting default log level to \"WARN\".\n",
      "To adjust logging level use sc.setLogLevel(newLevel). For SparkR, use setLogLevel(newLevel).\n",
      "25/08/18 04:41:14 WARN NativeCodeLoader: Unable to load native-hadoop library for your platform... using builtin-java classes where applicable\n"
     ]
    }
   ],
   "source": [
    "from pyspark.sql import SparkSession\n",
    "\n",
    "spark = SparkSession.builder.appName(\"Airbnb data processing\").getOrCreate()\n"
   ]
  },
  {
   "cell_type": "code",
   "execution_count": 2,
   "id": "4666c086",
   "metadata": {},
   "outputs": [
    {
     "name": "stderr",
     "output_type": "stream",
     "text": [
      "                                                                                \r"
     ]
    }
   ],
   "source": [
    "listings = spark.read.csv(\n",
    "    \"data/listings.csv.gz\",\n",
    "    header=True,\n",
    "    inferSchema=True,\n",
    "    sep=\",\",\n",
    "    quote='\"',\n",
    "    escape='\"',\n",
    "    multiLine=True,\n",
    "    mode=\"PERMISSIVE\",\n",
    ")\n"
   ]
  },
  {
   "cell_type": "code",
   "execution_count": 3,
   "id": "501f27b7",
   "metadata": {},
   "outputs": [
    {
     "name": "stdout",
     "output_type": "stream",
     "text": [
      "+----------------------+\n",
      "|review_scores_location|\n",
      "+----------------------+\n",
      "|                  4.62|\n",
      "|                  4.54|\n",
      "|                  4.36|\n",
      "|                   4.5|\n",
      "|                  4.37|\n",
      "|                   4.5|\n",
      "|                  4.53|\n",
      "|                  4.52|\n",
      "|                  4.49|\n",
      "|                  4.94|\n",
      "|                  4.82|\n",
      "|                  4.92|\n",
      "|                  4.14|\n",
      "|                  4.78|\n",
      "|                  4.43|\n",
      "|                  4.73|\n",
      "|                  NULL|\n",
      "|                  NULL|\n",
      "|                  4.48|\n",
      "|                  4.75|\n",
      "+----------------------+\n",
      "only showing top 20 rows\n"
     ]
    }
   ],
   "source": [
    "review_locations = listings.select(listings.review_scores_location)\n",
    "review_locations.show()"
   ]
  },
  {
   "cell_type": "code",
   "execution_count": 4,
   "id": "b948255b",
   "metadata": {},
   "outputs": [
    {
     "name": "stdout",
     "output_type": "stream",
     "text": [
      "+----------------------+\n",
      "|review_scores_location|\n",
      "+----------------------+\n",
      "|                  4.62|\n",
      "|                  4.54|\n",
      "|                  4.36|\n",
      "|                   4.5|\n",
      "|                  4.37|\n",
      "|                   4.5|\n",
      "|                  4.53|\n",
      "|                  4.52|\n",
      "|                  4.49|\n",
      "|                  4.94|\n",
      "|                  4.82|\n",
      "|                  4.92|\n",
      "|                  4.14|\n",
      "|                  4.78|\n",
      "|                  4.43|\n",
      "|                  4.73|\n",
      "|                  NULL|\n",
      "|                  NULL|\n",
      "|                  4.48|\n",
      "|                  4.75|\n",
      "+----------------------+\n",
      "only showing top 20 rows\n"
     ]
    }
   ],
   "source": [
    "listings.select(listings.review_scores_location).show()"
   ]
  },
  {
   "cell_type": "code",
   "execution_count": 5,
   "id": "e30217c1",
   "metadata": {},
   "outputs": [
    {
     "name": "stdout",
     "output_type": "stream",
     "text": [
      "+------+-------+------------------------------------------------+----------------------+\n",
      "|id    |price  |name                                            |review_scores_location|\n",
      "+------+-------+------------------------------------------------+----------------------+\n",
      "|264776|$297.00|Huge Four Bedroom Apartment                     |4.62                  |\n",
      "|264777|$98.00 |One Bedroom Apartment                           |4.54                  |\n",
      "|264782|$120.00|One Bedroom Garden Apartment                    |4.53                  |\n",
      "|264783|$216.00|Four Bedroom Garden Apartment                   |4.52                  |\n",
      "|266037|$62.00 |Central London with Stunning Views!             |4.94                  |\n",
      "|268398|$66.00 |Also five minutes to South Bank                 |4.82                  |\n",
      "|270600|$73.00 |Patio Apartment in London (Twickenham)          |4.92                  |\n",
      "|425143|NULL   |luxury 1bed in Chelsea Bridge Wharf             |4.78                  |\n",
      "|426354|$200.00|1 bedroom flat with big balcony!                |4.73                  |\n",
      "|427584|$129.00|Hackney Stylish & light 1 bedroom Victorian flat|4.75                  |\n",
      "|427936|$70.00 |Boutique Room w/ Private Bath, Balcony          |4.88                  |\n",
      "|274740|$248.00|Top Floor Sunset View   Chelsea apartment       |4.58                  |\n",
      "|13913 |$72.00 |Holiday London DB Room Let-on going             |4.77                  |\n",
      "|15400 |$120.00|Bright Chelsea  Apartment. Chelsea!             |4.93                  |\n",
      "|17402 |$510.00|Very Central Modern 3-Bed/2 Bath By Oxford St W1|4.89                  |\n",
      "|24328 |$213.00|Battersea live/work artist house                |4.59                  |\n",
      "|34935 |$153.00|Bright 1 Bedroom Apartment w 2 beds Brick Lane  |4.59                  |\n",
      "|36299 |$245.00|Kew Gardens 3BR house in cul-de-sac             |4.9                   |\n",
      "|36660 |$74.00 |You are GUARANTEED to love this                 |4.77                  |\n",
      "|38610 |NULL   |CHARMING FAMILY HOME                            |4.79                  |\n",
      "+------+-------+------------------------------------------------+----------------------+\n",
      "only showing top 20 rows\n"
     ]
    }
   ],
   "source": [
    "high_score_listings = listings.filter(listings.review_scores_location > 4.5).select(\n",
    "    \"id\", \"price\", \"name\", \"review_scores_location\"\n",
    ")\n",
    "\n",
    "high_score_listings.show(20, truncate=False)"
   ]
  },
  {
   "cell_type": "code",
   "execution_count": 6,
   "id": "d4ce3640",
   "metadata": {},
   "outputs": [
    {
     "name": "stdout",
     "output_type": "stream",
     "text": [
      "+------+-------+------------------------------------------------+----------------------+\n",
      "|id    |price  |name                                            |review_scores_location|\n",
      "+------+-------+------------------------------------------------+----------------------+\n",
      "|264776|$297.00|Huge Four Bedroom Apartment                     |4.62                  |\n",
      "|264777|$98.00 |One Bedroom Apartment                           |4.54                  |\n",
      "|264782|$120.00|One Bedroom Garden Apartment                    |4.53                  |\n",
      "|264783|$216.00|Four Bedroom Garden Apartment                   |4.52                  |\n",
      "|266037|$62.00 |Central London with Stunning Views!             |4.94                  |\n",
      "|268398|$66.00 |Also five minutes to South Bank                 |4.82                  |\n",
      "|270600|$73.00 |Patio Apartment in London (Twickenham)          |4.92                  |\n",
      "|426354|$200.00|1 bedroom flat with big balcony!                |4.73                  |\n",
      "|427584|$129.00|Hackney Stylish & light 1 bedroom Victorian flat|4.75                  |\n",
      "|427936|$70.00 |Boutique Room w/ Private Bath, Balcony          |4.88                  |\n",
      "|274740|$248.00|Top Floor Sunset View   Chelsea apartment       |4.58                  |\n",
      "|13913 |$72.00 |Holiday London DB Room Let-on going             |4.77                  |\n",
      "|15400 |$120.00|Bright Chelsea  Apartment. Chelsea!             |4.93                  |\n",
      "|17402 |$510.00|Very Central Modern 3-Bed/2 Bath By Oxford St W1|4.89                  |\n",
      "|24328 |$213.00|Battersea live/work artist house                |4.59                  |\n",
      "|34935 |$153.00|Bright 1 Bedroom Apartment w 2 beds Brick Lane  |4.59                  |\n",
      "|36299 |$245.00|Kew Gardens 3BR house in cul-de-sac             |4.9                   |\n",
      "|36660 |$74.00 |You are GUARANTEED to love this                 |4.77                  |\n",
      "|275140|$111.00|Great location, direct links to London Bridge!  |4.54                  |\n",
      "|432841|$104.00|Large double bedroom in Shoreditch w/garden     |4.79                  |\n",
      "+------+-------+------------------------------------------------+----------------------+\n",
      "only showing top 20 rows\n"
     ]
    }
   ],
   "source": [
    "high_score_listings.dropna().show(20, truncate=False)"
   ]
  },
  {
   "cell_type": "code",
   "execution_count": 7,
   "id": "b2c0cc91",
   "metadata": {},
   "outputs": [
    {
     "data": {
      "text/plain": [
       "StructField('price', StringType(), True)"
      ]
     },
     "execution_count": 7,
     "metadata": {},
     "output_type": "execute_result"
    }
   ],
   "source": [
    "high_score_listings.schema[\"price\"]"
   ]
  },
  {
   "cell_type": "code",
   "execution_count": 10,
   "id": "b9925e39",
   "metadata": {},
   "outputs": [
    {
     "data": {
      "text/plain": [
       "StructField('price_num', FloatType(), True)"
      ]
     },
     "execution_count": 10,
     "metadata": {},
     "output_type": "execute_result"
    }
   ],
   "source": [
    "from pyspark.sql.functions import regexp_replace\n",
    "\n",
    "price_num_df = listings.withColumn(\n",
    "    \"price_num\", regexp_replace(\"price\", \"[$,]\", \"\").cast(\"float\")\n",
    ")\n",
    "\n",
    "price_num_df.schema[\"price_num\"]"
   ]
  },
  {
   "cell_type": "code",
   "execution_count": 11,
   "id": "11b61afd",
   "metadata": {},
   "outputs": [
    {
     "name": "stdout",
     "output_type": "stream",
     "text": [
      "+---------+--------------------------------------------------+\n",
      "|price_num|name                                              |\n",
      "+---------+--------------------------------------------------+\n",
      "|297.0    |Huge Four Bedroom Apartment                       |\n",
      "|98.0     |One Bedroom Apartment                             |\n",
      "|148.0    |Two Bedroom Newly Refurbished Apartment           |\n",
      "|144.0    |Refurbished Two Bedroom Apartment                 |\n",
      "|157.0    |Spacious refurbished 2 bedroom apt with balcony   |\n",
      "|148.0    |Two Bedrooms Garden Maisonette                    |\n",
      "|120.0    |One Bedroom Garden Apartment                      |\n",
      "|216.0    |Four Bedroom Garden Apartment                     |\n",
      "|238.0    |Huge Three Bedroom Flat with parking and terrace  |\n",
      "|62.0     |Central London with Stunning Views!               |\n",
      "|66.0     |Also five minutes to South Bank                   |\n",
      "|73.0     |Patio Apartment in London (Twickenham)            |\n",
      "|NULL     |Heathrow BNB - Home Away From Home!               |\n",
      "|NULL     |luxury 1bed in Chelsea Bridge Wharf               |\n",
      "|134.0    |2 Bed Edwardian Maisonette with Sunny Garden      |\n",
      "|200.0    |1 bedroom flat with big balcony!                  |\n",
      "|NULL     |Kitchener House!                                  |\n",
      "|155.0    |Cool shoreditch courtyard flat                    |\n",
      "|135.0    |Lovely 2 bedroom flat near Brixton, zone 2, London|\n",
      "|129.0    |Hackney Stylish & light 1 bedroom Victorian flat  |\n",
      "+---------+--------------------------------------------------+\n",
      "only showing top 20 rows\n"
     ]
    }
   ],
   "source": [
    "price_num_df.select(\"price_num\", \"name\").show(20, truncate=False)"
   ]
  },
  {
   "cell_type": "code",
   "execution_count": 12,
   "id": "327042bc",
   "metadata": {},
   "outputs": [
    {
     "name": "stdout",
     "output_type": "stream",
     "text": [
      "+-------------------------------------------------+------+----------------------+\n",
      "|name                                             |price |review_scores_location|\n",
      "+-------------------------------------------------+------+----------------------+\n",
      "|One Bedroom Apartment                            |$98.00|4.54                  |\n",
      "|Central London with Stunning Views!              |$62.00|4.94                  |\n",
      "|Also five minutes to South Bank                  |$66.00|4.82                  |\n",
      "|Patio Apartment in London (Twickenham)           |$73.00|4.92                  |\n",
      "|Boutique Room w/ Private Bath, Balcony           |$70.00|4.88                  |\n",
      "|Holiday London DB Room Let-on going              |$72.00|4.77                  |\n",
      "|You are GUARANTEED to love this                  |$74.00|4.77                  |\n",
      "|Bedroom In Great Location Stratford              |$52.00|4.57                  |\n",
      "|Bright Double + workspace in spacious Garden Flat|$51.00|4.77                  |\n",
      "|SPACIOUS ROOM IN CONTEMPORARY STYLE FLAT         |$52.00|4.79                  |\n",
      "|Room with a view, shared flat,  central  Bankside|$75.00|4.86                  |\n",
      "|You Will Save Money Here                         |$55.00|4.75                  |\n",
      "|Spacious luxury 2 bedroom apartment              |$94.00|4.67                  |\n",
      "|A people person awaits you here!                 |$48.00|4.79                  |\n",
      "|Quiet Comfortable Room in Fulham                 |$47.00|4.64                  |\n",
      "|Sunny double room/balcony/shower/wc              |$55.00|4.72                  |\n",
      "|London, Ealing, W13 Artists Home                 |$80.00|4.91                  |\n",
      "|Attic Room in historic Greenwich                 |$41.00|4.83                  |\n",
      "|202 double room shower Soho comfy                |$83.00|4.94                  |\n",
      "|Dream Apartment in central London                |$60.00|4.92                  |\n",
      "+-------------------------------------------------+------+----------------------+\n",
      "only showing top 20 rows\n"
     ]
    }
   ],
   "source": [
    "price_num_df.filter(\n",
    "    (price_num_df.price_num < 100) & (price_num_df.review_scores_location > 4.5)\n",
    ").select(\"name\", \"price\", \"review_scores_location\").show(truncate=False)"
   ]
  },
  {
   "cell_type": "code",
   "execution_count": 14,
   "id": "f87a5b40",
   "metadata": {},
   "outputs": [
    {
     "name": "stdout",
     "output_type": "stream",
     "text": [
      "+-------------------------------------------------+------+----------------------+\n",
      "|name                                             |price |review_scores_location|\n",
      "+-------------------------------------------------+------+----------------------+\n",
      "|One Bedroom Apartment                            |$98.00|4.54                  |\n",
      "|Central London with Stunning Views!              |$62.00|4.94                  |\n",
      "|Also five minutes to South Bank                  |$66.00|4.82                  |\n",
      "|Patio Apartment in London (Twickenham)           |$73.00|4.92                  |\n",
      "|Boutique Room w/ Private Bath, Balcony           |$70.00|4.88                  |\n",
      "|Holiday London DB Room Let-on going              |$72.00|4.77                  |\n",
      "|You are GUARANTEED to love this                  |$74.00|4.77                  |\n",
      "|Bedroom In Great Location Stratford              |$52.00|4.57                  |\n",
      "|Bright Double + workspace in spacious Garden Flat|$51.00|4.77                  |\n",
      "|SPACIOUS ROOM IN CONTEMPORARY STYLE FLAT         |$52.00|4.79                  |\n",
      "|Room with a view, shared flat,  central  Bankside|$75.00|4.86                  |\n",
      "|You Will Save Money Here                         |$55.00|4.75                  |\n",
      "|Spacious luxury 2 bedroom apartment              |$94.00|4.67                  |\n",
      "|A people person awaits you here!                 |$48.00|4.79                  |\n",
      "|Quiet Comfortable Room in Fulham                 |$47.00|4.64                  |\n",
      "|Sunny double room/balcony/shower/wc              |$55.00|4.72                  |\n",
      "|London, Ealing, W13 Artists Home                 |$80.00|4.91                  |\n",
      "|Attic Room in historic Greenwich                 |$41.00|4.83                  |\n",
      "|202 double room shower Soho comfy                |$83.00|4.94                  |\n",
      "|Dream Apartment in central London                |$60.00|4.92                  |\n",
      "+-------------------------------------------------+------+----------------------+\n",
      "only showing top 20 rows\n"
     ]
    }
   ],
   "source": [
    "price_num_df.filter(\"price_num < 100 AND review_scores_location > 4.5\").select(\n",
    "    \"name\", \"price\", \"review_scores_location\"\n",
    ").show(truncate=False)\n"
   ]
  },
  {
   "cell_type": "code",
   "execution_count": 15,
   "id": "e342dbe0",
   "metadata": {},
   "outputs": [
    {
     "name": "stderr",
     "output_type": "stream",
     "text": [
      "[Stage 9:>                                                          (0 + 1) / 1]\r"
     ]
    },
    {
     "name": "stdout",
     "output_type": "stream",
     "text": [
      "+----------------------------------+\n",
      "|property_type                     |\n",
      "+----------------------------------+\n",
      "|Private room in lighthouse        |\n",
      "|Private room in loft              |\n",
      "|Private room in earthen home      |\n",
      "|Entire chalet                     |\n",
      "|Earthen home                      |\n",
      "|Farm stay                         |\n",
      "|Entire rental unit                |\n",
      "|Shared room in hostel             |\n",
      "|Shared room                       |\n",
      "|Private room in condo             |\n",
      "|Room in boutique hotel            |\n",
      "|Private room in religious building|\n",
      "|Room in bed and breakfast         |\n",
      "|Private room in casa particular   |\n",
      "|Private room in bungalow          |\n",
      "|Entire cabin                      |\n",
      "|Entire guesthouse                 |\n",
      "|Hut                               |\n",
      "|Private room in nature lodge      |\n",
      "|Entire guest suite                |\n",
      "+----------------------------------+\n",
      "only showing top 20 rows\n"
     ]
    },
    {
     "name": "stderr",
     "output_type": "stream",
     "text": [
      "                                                                                \r"
     ]
    }
   ],
   "source": [
    "listings.select(listings.property_type).distinct().show(truncate=False)"
   ]
  },
  {
   "cell_type": "code",
   "execution_count": 16,
   "id": "ab196955",
   "metadata": {},
   "outputs": [
    {
     "name": "stderr",
     "output_type": "stream",
     "text": [
      "[Stage 12:>                                                         (0 + 1) / 1]\r"
     ]
    },
    {
     "name": "stdout",
     "output_type": "stream",
     "text": [
      "+----------------------------------+---------------+\n",
      "|property_type                     |room_type      |\n",
      "+----------------------------------+---------------+\n",
      "|Room in hostel                    |Hotel room     |\n",
      "|Private room in casa particular   |Private room   |\n",
      "|Dome                              |Entire home/apt|\n",
      "|Entire serviced apartment         |Entire home/apt|\n",
      "|Private room in loft              |Private room   |\n",
      "|Shipping container                |Entire home/apt|\n",
      "|Private room in villa             |Private room   |\n",
      "|Farm stay                         |Entire home/apt|\n",
      "|Room in hotel                     |Hotel room     |\n",
      "|Shared room in rental unit        |Shared room    |\n",
      "|Private room in guest suite       |Private room   |\n",
      "|Room in rental unit               |Hotel room     |\n",
      "|Room in serviced apartment        |Hotel room     |\n",
      "|Private room in serviced apartment|Private room   |\n",
      "|Private room in hostel            |Private room   |\n",
      "|Shared room                       |Shared room    |\n",
      "|Private room in yurt              |Private room   |\n",
      "|Room in boutique hotel            |Private room   |\n",
      "|Private room in shepherd's hut    |Private room   |\n",
      "|Entire rental unit                |Entire home/apt|\n",
      "+----------------------------------+---------------+\n",
      "only showing top 20 rows\n"
     ]
    },
    {
     "name": "stderr",
     "output_type": "stream",
     "text": [
      "                                                                                \r"
     ]
    }
   ],
   "source": [
    "listings.select(listings.property_type, listings.room_type).distinct().show(\n",
    "    truncate=False\n",
    ")\n"
   ]
  },
  {
   "cell_type": "code",
   "execution_count": 17,
   "id": "5d8ca05f",
   "metadata": {},
   "outputs": [
    {
     "name": "stderr",
     "output_type": "stream",
     "text": [
      "                                                                                \r"
     ]
    }
   ],
   "source": [
    "listings.select(listings.property_type).distinct().write.csv(\"data/property_types\")\n"
   ]
  }
 ],
 "metadata": {
  "kernelspec": {
   "display_name": ".venv",
   "language": "python",
   "name": "python3"
  },
  "language_info": {
   "codemirror_mode": {
    "name": "ipython",
    "version": 3
   },
   "file_extension": ".py",
   "mimetype": "text/x-python",
   "name": "python",
   "nbconvert_exporter": "python",
   "pygments_lexer": "ipython3",
   "version": "3.10.12"
  }
 },
 "nbformat": 4,
 "nbformat_minor": 5
}
